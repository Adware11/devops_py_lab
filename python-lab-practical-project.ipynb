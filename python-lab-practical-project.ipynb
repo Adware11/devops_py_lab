{
 "cells": [
  {
   "cell_type": "markdown",
   "id": "bfe601ef-7327-44a8-9281-bfbbb4a6d67d",
   "metadata": {},
   "source": [
    "# Практическое задание по курсам Python "
   ]
  },
  {
   "cell_type": "markdown",
   "id": "daea0c7a-a6bd-4fa1-876b-8fed15b60e62",
   "metadata": {},
   "source": [
    "Получить программу на Python создающую по шаблону на языке Markdown презентацию Powerpoint c фотографиями и характеристиками товаров"
   ]
  },
  {
   "cell_type": "markdown",
   "id": "cc8ab672-e75f-4208-a7ef-6edc84e1d660",
   "metadata": {},
   "source": [
    "Цель задания:\n",
    "\n",
    "* Создать программу, состоящую из нескольких модулей \n",
    "* Развивать проект от простого сложного\n",
    "* Использовать функции-заглушки (stab) на начальном этапе разработки \n",
    "* Дать возможность слушателям с разными уровнями владения Python довести приложение до подходящего для них уровня сложности.\n",
    "\n",
    "* Практически использовать возможности Python:\n",
    "    - запуск внешней команды (модуль subprocess)\n",
    "    - генераторные функции\n",
    "    - словари\n",
    "    - lambda-выражения и передача параметров-функций\n",
    "    - строковые методы, str.format_map\n",
    "    - запись и чтение из файлов\n",
    "    - csv - файлы\n",
    "    - работа с базами данных\n",
    "    \n",
    "Не обязательно делать все этапы задания:\n",
    "\n",
    "Будем считать. что практика по вводному курсу пройдена если сделаны версии до 3й\n",
    "\n",
    "А по второму курсу, если до версии 5\n",
    "\n",
    "    "
   ]
  },
  {
   "cell_type": "markdown",
   "id": "60c07340-5b1b-4fdd-a163-02e9bc16eba5",
   "metadata": {
    "tags": []
   },
   "source": [
    "## Предварительное скачивание файлов лабораторной работы\n",
    "\n",
    "1) Установите систему контроля версий git. Сайт программы  <https://git-scm.com>\n",
    "2) Загрузите папку проекта из [репозитория github](https://github.com/koch-econ/devops_py_lab.git)\n",
    "\n",
    "> Можно скопировать репозитарий в папку  `mylab` следующей командой: \n",
    "```bash\n",
    "git clone https://github.com/koch-econ/devops_py_lab.git mylab\n",
    "```\n",
    "3) рассмотрите структуру папки проекта"
   ]
  },
  {
   "cell_type": "markdown",
   "id": "525fd835-8970-48f3-a78f-75958045ee41",
   "metadata": {},
   "source": [
    "| папка / файл                        | описание                                                 |\n",
    "|:------------------------------------|:---------------------------------------------------------|\n",
    "| sh                                  | примеры решения сходных задач на bash                    |\n",
    "| py                                  | файлы python                                             |\n",
    "| py/\\*\\_ver\\_1.py                    | заготовки файлов для версии 1 проекта                    |\n",
    "| py/data_source\\_ver\\_*N*.py         | модуль функций получения данных для версии *N* проекта   |\n",
    "| py/main\\_ver\\_*N*.py                | основная программа                                       |\n",
    "| py/markdown2output\\_ver\\_*N*.py     | преобразование в выходной формат (.pptx)                 |\n",
    "| pic                                 | файлы картинок                                           |\n",
    "| pic/*product_id*.png                | фотография товара с артикулом *product_id*.png           |\n",
    "| tmpl                                | шаблоны презентаций  в формате Markdown                                    |\n",
    "| csv                                 | текстовые файлы данных с разделителем полей `';'`        |\n",
    "| csv/wb_dquotes.csv                  | все поля закавычены `\"`                                  |\n",
    "| csv/wb.csv                          | все текстовые фоля закавычены `\"`                        |\n",
    "| csv/wb_wo_dquotes.csv               | все поля без кавычек                                     |\n",
    "| out                                 | папка для сгенерированных программой файлов              |\n",
    "| out/slides\\_ver\\_*N*.md             | файлы, сгенерированные программой Вашей программой       |\n",
    "| out/slides_obrazec\\_ver\\_*N*.md     | образцы файлов, которые нужно сгенерировать              |\n",
    "| out/slides_obrazec\\_ver\\_*N*.pptx   | образцы файлов, которые нужно сгенерировать              |\n",
    "| out/slides_obrazec\\_ver\\_*N*.html   | образцы файлов, которые нужно сгенерировать              |\n",
    "| out/slides\\_ver\\_*N*.pptx           | файлы, сгенерированные программой Вашей программой       |\n",
    "| out/slides\\_ver\\_*N*.html           | файлы, сгенерированные программой Вашей программой       |\n",
    "| out/slides_obrazec\\_ver\\_*N*.md     | папка для сгенерированных программой файлов              |\n",
    "\n",
    "* * *"
   ]
  },
  {
   "cell_type": "code",
   "execution_count": 17,
   "id": "b13212a0-628c-437c-b8bf-68bb735e7d97",
   "metadata": {},
   "outputs": [
    {
     "name": "stdout",
     "output_type": "stream",
     "text": [
      "Overwriting csv/wb.csv\n"
     ]
    }
   ],
   "source": [
    "%%file csv/wb.csv\n",
    "\"product_id\";\"vendor\";\"model\";\"price\";\"category\"\n",
    "13883932;\"StarWind\";\"Мини-печь smo2003\";5597;5\n",
    "8483040;\"BBK\";\"Микроволновая печь соло 20MWS-711M/WS\";4173;5\n",
    "65374769;\"ATLANT\";\"Холодильник Минск ХМ 4012 022\";30000;6\n",
    "70598275;\"Candy\";\"Стиральная машина CS4 1061DB1/2-07\";22941;6"
   ]
  },
  {
   "cell_type": "code",
   "execution_count": 18,
   "id": "2cf80d3f-d1c3-47cd-9ddb-65b584c268a6",
   "metadata": {},
   "outputs": [
    {
     "name": "stdout",
     "output_type": "stream",
     "text": [
      "Overwriting csv/wb_wo_dquotes.csv\n"
     ]
    }
   ],
   "source": [
    "%%file csv/wb_wo_dquotes.csv\n",
    "product_id;vendor;model;price;category\n",
    "13883932;StarWind;Мини-печь smo2003;5597;5\n",
    "8483040;BBK;Микроволновая печь соло 20MWS-711M/WS;4173;5\n",
    "65374769;ATLANT;Холодильник Минск ХМ 4012 022;30000;6\n",
    "70598275;Candy;Стиральная машина CS4 1061DB1/2-07;22941;6"
   ]
  },
  {
   "cell_type": "code",
   "execution_count": 19,
   "id": "1c1c28d4-152f-4705-8cb4-5c9e12b2fb22",
   "metadata": {},
   "outputs": [
    {
     "name": "stdout",
     "output_type": "stream",
     "text": [
      "Overwriting csv/wb_dquotes.csv\n"
     ]
    }
   ],
   "source": [
    "%%file csv/wb_dquotes.csv\n",
    "\"product_id\";\"vendor\";\"model\";\"price\";\"category\"\n",
    "\"13883932\";\"StarWind\";\"Мини-печь smo2003\";\"5597\";\"5\"\n",
    "\"8483040\";\"BBK\";\"Микроволновая печь соло 20MWS-711M/WS\";\"4173\";\"5\"\n",
    "\"65374769\";\"ATLANT\";\"Холодильник Минск ХМ 4012 022\";\"30000\";\"6\"\n",
    "\"70598275\";\"Candy\";\"Стиральная машина CS4 1061DB1/2-07\";\"22941\";\"6\""
   ]
  },
  {
   "cell_type": "code",
   "execution_count": 7,
   "id": "1a803558-f69f-4df0-bae8-ceb6dfe8d426",
   "metadata": {},
   "outputs": [
    {
     "name": "stdout",
     "output_type": "stream",
     "text": [
      "13883932.png     70598275.png     category_5.jpeg\n",
      "65374769.png     8483040.png      category_6.jpeg\n"
     ]
    }
   ],
   "source": [
    "%ls pic"
   ]
  },
  {
   "cell_type": "code",
   "execution_count": 22,
   "id": "8cb7ce10-5fb0-41b4-a8a3-7345b94f2e70",
   "metadata": {},
   "outputs": [],
   "source": [
    "mkdir tmpl"
   ]
  },
  {
   "cell_type": "code",
   "execution_count": 15,
   "id": "dc18154d-4f47-408a-8b7f-61475d8c3e84",
   "metadata": {},
   "outputs": [
    {
     "name": "stdout",
     "output_type": "stream",
     "text": [
      "Overwriting tmpl/category_ver_1.md\n"
     ]
    }
   ],
   "source": [
    "%%file tmpl/category_ver_1.md\n",
    "\n",
    "## Техника для кухни\n",
    "\n",
    "![](pic/category_5.jpeg)\n",
    "\n",
    "* * * \n"
   ]
  },
  {
   "cell_type": "code",
   "execution_count": 36,
   "id": "1352e32a-5d93-41bc-90b3-f690cf225e51",
   "metadata": {},
   "outputs": [
    {
     "name": "stdout",
     "output_type": "stream",
     "text": [
      "Writing tmpl/category_ver_4.md\n"
     ]
    }
   ],
   "source": [
    "%%file tmpl/category_ver_4.md\n",
    "\n",
    "## Техника для кухни\n",
    "\n",
    "![](pic/{category_name}.jpeg)\n",
    "\n",
    "* * * \n"
   ]
  },
  {
   "cell_type": "code",
   "execution_count": 29,
   "id": "78cad381-a805-459d-b307-cad79ee64b6f",
   "metadata": {},
   "outputs": [
    {
     "name": "stdout",
     "output_type": "stream",
     "text": [
      "Overwriting tmpl/slides_ver_1.md\n"
     ]
    }
   ],
   "source": [
    "%%file tmpl/slides_ver_1.md\n",
    "## мини-печь StarWind\n",
    ":::::::::::::: {.columns}\n",
    "::: {.column }\n",
    "* вендор: StarWind\n",
    "* модель: Мини-печь smo2003\n",
    "* артикул: 13883932\n",
    "* цена: 5597\n",
    ":::\n",
    "::: {.column }\n",
    "\n",
    "![фото товара](pic/13883932.png){width=120px}\n",
    ":::\n",
    "::::::::::::::\n",
    "\n",
    "## Микроволновая печь соло 20MWS-711M/WS\n",
    ":::::::::::::: {.columns}\n",
    "::: {.column }\n",
    "* вендор: BBK\n",
    "* модель: Микроволновая печь соло 20MWS-711M/WS\n",
    "* артикул: 8483040\n",
    "* цена: 4173\n",
    ":::\n",
    "::: {.column }\n",
    "\n",
    "![фото товара](pic/8483040.png){width=120px}\n",
    ":::\n",
    "::::::::::::::    \n"
   ]
  },
  {
   "cell_type": "code",
   "execution_count": 43,
   "id": "079305f0-a33c-40b4-91a8-7dc6d412d5ad",
   "metadata": {},
   "outputs": [
    {
     "name": "stdout",
     "output_type": "stream",
     "text": [
      "Overwriting tmpl/slides_ver_2.md\n"
     ]
    }
   ],
   "source": [
    "%%file tmpl/slides_ver_2.md\n",
    "## {model}\n",
    ":::::::::::::: {.columns}\n",
    "::: {.column }\n",
    "* вендор: {vendor}\n",
    "* модель: {model}\n",
    "* артикул: {product_id}\n",
    "* цена: {price}\n",
    ":::\n",
    "::: {.column }\n",
    "\n",
    "![фото товара](pic/{product_id}.png){width=120px}\n",
    ":::\n",
    "::::::::::::::\n",
    "\n",
    "* * *    "
   ]
  },
  {
   "cell_type": "code",
   "execution_count": 44,
   "id": "120a99f3-7e3b-43bc-bb83-acaa4b34095a",
   "metadata": {},
   "outputs": [
    {
     "name": "stdout",
     "output_type": "stream",
     "text": [
      "slides_obrazec_ver_1.html  slides_ver_1.pptx\n"
     ]
    }
   ],
   "source": [
    "%ls out"
   ]
  },
  {
   "cell_type": "code",
   "execution_count": 26,
   "id": "584534f4-4a91-416b-9987-f4694edcffed",
   "metadata": {},
   "outputs": [],
   "source": [
    "!pandoc -o out/slides_obrazec_ver_1.html --self-contained --metadata title=\"товары WB\"   tmpl/category_ver_1.md tmpl/slides_ver_1.md"
   ]
  },
  {
   "cell_type": "markdown",
   "id": "211c44bc-497d-4d47-8d1b-4bb00e0229a4",
   "metadata": {},
   "source": [
    "```sh\n",
    "pandoc -o out/slides_obrazec_ver1.html --self-contained --metadata title=\"товары WB\"   template/category_ver_1.md template/slides_ver_1.md\n",
    "```"
   ]
  },
  {
   "cell_type": "markdown",
   "id": "609c4489-54e4-43fa-837c-f1a2719def52",
   "metadata": {},
   "source": [
    "Результат [html](out/slides_obrazec_ver_1.html)"
   ]
  },
  {
   "cell_type": "code",
   "execution_count": 24,
   "id": "1a538a32-0871-45f4-aef0-e5ddd840cb5f",
   "metadata": {},
   "outputs": [],
   "source": [
    "!pandoc -o out/slides_ver_1.pptx  tmpl/category_ver_1.md tmpl/slides_ver_1.md"
   ]
  },
  {
   "cell_type": "markdown",
   "id": "f7072ae7-8f77-48cf-9541-85a1f7fc9d0c",
   "metadata": {},
   "source": [
    "```sh\n",
    "pandoc -o out/slides_ver_1.pptx  template/category_ver_1.md template/slides_ver_1.md\n",
    "```"
   ]
  },
  {
   "cell_type": "markdown",
   "id": "2f21bffa-a812-4dd6-98ba-94a77d7de5a2",
   "metadata": {},
   "source": [
    "Результат [pptx](out/slides_obrazec_ver_1.pptx)"
   ]
  },
  {
   "cell_type": "code",
   "execution_count": 25,
   "id": "e627d4dc-db88-4da0-99ad-2b13117b4b2f",
   "metadata": {},
   "outputs": [
    {
     "name": "stdout",
     "output_type": "stream",
     "text": [
      "slides_obrazec_ver1.html  slides_ver_1.pptx\n"
     ]
    }
   ],
   "source": [
    "%ls out"
   ]
  },
  {
   "cell_type": "markdown",
   "id": "78f8bd86-eed3-45dc-aa8b-92271323e296",
   "metadata": {},
   "source": [
    "## Предполагаемые этапы (версии развития проекта)"
   ]
  },
  {
   "cell_type": "markdown",
   "id": "02141f6e-99e0-45e5-9aba-eb46b47dfca7",
   "metadata": {
    "tags": []
   },
   "source": [
    "###  Версия 1. Генерация pptx по готовым файлам `tmpl/*_ver_1.md'"
   ]
  },
  {
   "cell_type": "code",
   "execution_count": 38,
   "id": "53cd59cb-6a0f-4f70-802e-934a9de7e04c",
   "metadata": {},
   "outputs": [
    {
     "name": "stdout",
     "output_type": "stream",
     "text": [
      "Writing py/main_ver_1.py\n"
     ]
    }
   ],
   "source": [
    "%%file py/main_ver_1.py\n",
    "# import data_source_ver_N as ds\n",
    "import markdown2output_ver_1.py  as m2o\n",
    "\n",
    "\n",
    "tmpl_category_file=\"tmpl/category_ver_1.md\"\n",
    "tmpl_slides_file=\"tmpl/slides_ver_1.md\"\n",
    "\n",
    "out_md_file=\"out/slides_ver_1.md\"\n",
    "out_pptx_file=\"out/slides_ver_1.md\"\n",
    "\n",
    "pass # объединить файлы в один в директории out \n",
    "\n",
    "m2o.convert_to_pptx(out_md_file, out_pptx_file)  # преобразовать в pptx \n",
    "\n"
   ]
  },
  {
   "cell_type": "markdown",
   "id": "23036158-ad89-48af-ab54-76d7c3b29f42",
   "metadata": {},
   "source": [
    "###  Версия 2. Генерация pptx по файлам `tmpl/*_ver_2.md' c подставлением данных из модуля `data_source_ver_2.py`"
   ]
  },
  {
   "cell_type": "markdown",
   "id": "62d5d008-4af7-413e-8c07-c833815d8218",
   "metadata": {},
   "source": [
    "Пока без титульных слайдов категорий товаров \n",
    "\n"
   ]
  },
  {
   "cell_type": "markdown",
   "id": "dfce8576-deac-4849-ac30-b1f9ecbe9983",
   "metadata": {
    "tags": []
   },
   "source": [
    "###  Версия 3. Генерация pptx по файлам `tmpl/*_ver_3.md' c подставлением данных из словаря discout_dict и списка category_list"
   ]
  },
  {
   "cell_type": "code",
   "execution_count": 39,
   "id": "c74a768d-8adc-45cd-9c97-2af5fa55d5fa",
   "metadata": {},
   "outputs": [],
   "source": [
    "\n",
    "category_list=[\"Прочие устройтсва\", \"Климатическая техника\" \"Красота и здоровье\", \"Садовая техника\",\"Техника для дома\",\"Техника для кухни\", \"Крупная бытовая техника\" ]\n"
   ]
  },
  {
   "cell_type": "code",
   "execution_count": 48,
   "id": "f9fba6b0-a279-4cc6-a843-184c40773e1e",
   "metadata": {},
   "outputs": [],
   "source": [
    "discount_dict={ \"Candy\":10, \"BBK\":20 }"
   ]
  },
  {
   "cell_type": "markdown",
   "id": "8ce7e928-8590-49cc-b3f6-d830d2bd6c79",
   "metadata": {},
   "source": [
    "Скидки на все товары этих вендоров\n",
    "\n",
    "\n",
    "[образец html](out/slides_obrazec_ver_3.html)"
   ]
  },
  {
   "cell_type": "code",
   "execution_count": 42,
   "id": "fef87928-5644-4b20-9766-8282a9ab8419",
   "metadata": {},
   "outputs": [
    {
     "name": "stdout",
     "output_type": "stream",
     "text": [
      "Writing tmpl/slides_ver_3.md\n"
     ]
    }
   ],
   "source": [
    "%%file tmpl/slides_ver_3.md\n",
    "## {model}\n",
    ":::::::::::::: {.columns}\n",
    "::: {.column }\n",
    "* вендор: {vendor}\n",
    "* модель: {model}\n",
    "* артикул: {product_id}\n",
    "* цена: {price}\n",
    "* окончательная цена: ${discounted_price}\n",
    "* скидка по акции: ${discout}%\n",
    ":::\n",
    "::: {.column }\n",
    "\n",
    "![фото товара](pic/{product_id}.png){width=120px}\n",
    ":::\n",
    "::::::::::::::\n",
    "\n",
    "* * * \n"
   ]
  },
  {
   "cell_type": "markdown",
   "id": "ab09e34d-112e-4abf-9369-609b330975af",
   "metadata": {},
   "source": [
    "###  Версия 4. Слайды должны быть упорядочены по названиям категории товаров и дополнены титульными слайдами tmpl/category_ver_4.md"
   ]
  },
  {
   "cell_type": "markdown",
   "id": "c911f021-1d83-4be9-b9ff-39f4dc8966fe",
   "metadata": {},
   "source": [
    "Используйте lambda-выражения для указания последовательности сортировки"
   ]
  },
  {
   "cell_type": "markdown",
   "id": "5f8267c1-ed29-4a14-9889-3d52f338a172",
   "metadata": {},
   "source": [
    "###  Версия 5. Генераторные функции должны читать данные из csv файла csv/wb.csv"
   ]
  },
  {
   "cell_type": "code",
   "execution_count": null,
   "id": "b47f38d7-f32d-426b-be89-53091a4aafdd",
   "metadata": {},
   "outputs": [],
   "source": []
  }
 ],
 "metadata": {
  "kernelspec": {
   "display_name": "Python 3 (ipykernel)",
   "language": "python",
   "name": "python3"
  },
  "language_info": {
   "codemirror_mode": {
    "name": "ipython",
    "version": 3
   },
   "file_extension": ".py",
   "mimetype": "text/x-python",
   "name": "python",
   "nbconvert_exporter": "python",
   "pygments_lexer": "ipython3",
   "version": "3.9.12"
  }
 },
 "nbformat": 4,
 "nbformat_minor": 5
}
